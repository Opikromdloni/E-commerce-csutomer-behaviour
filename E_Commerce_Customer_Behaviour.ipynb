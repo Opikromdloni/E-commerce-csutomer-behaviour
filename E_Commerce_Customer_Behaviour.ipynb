{
  "cells": [
    {
      "cell_type": "markdown",
      "metadata": {
        "id": "view-in-github",
        "colab_type": "text"
      },
      "source": [
        "<a href=\"https://colab.research.google.com/github/Opikromdloni/E-commerce-customer-behaviour/blob/main/E_Commerce_Customer_Behaviour.ipynb\" target=\"_parent\"><img src=\"https://colab.research.google.com/assets/colab-badge.svg\" alt=\"Open In Colab\"/></a>"
      ]
    },
    {
      "cell_type": "code",
      "execution_count": null,
      "metadata": {
        "id": "QqaY6x5bT0o-"
      },
      "outputs": [],
      "source": [
        "import numpy as np\n",
        "import pandas as pd\n",
        "import matplotlib.pyplot as plt\n",
        "import seaborn as sns"
      ]
    },
    {
      "cell_type": "code",
      "execution_count": null,
      "metadata": {
        "colab": {
          "base_uri": "https://localhost:8080/"
        },
        "id": "tUoImXinpb6X",
        "outputId": "bf944836-26bc-43fd-e44b-9c59fd123017"
      },
      "outputs": [
        {
          "output_type": "stream",
          "name": "stdout",
          "text": [
            "   Customer ID  Gender  Age         City Membership Type  Total Spend  \\\n",
            "0          101  Female   29     New York            Gold       1120.2   \n",
            "1          102    Male   34  Los Angeles          Silver        780.5   \n",
            "\n",
            "   Items Purchased  Average Rating  Discount Applied  \\\n",
            "0               14             4.6              True   \n",
            "1               11             4.1             False   \n",
            "\n",
            "   Days Since Last Purchase Satisfaction Level  \n",
            "0                        25          Satisfied  \n",
            "1                        18            Neutral  \n"
          ]
        }
      ],
      "source": [
        "# Create a list of lists from the given data\n",
        "data_list = [\n",
        "    [101, \"Female\", 29, \"New York\", \"Gold\", 1120.2, 14, 4.6, True, 25, \"Satisfied\"],\n",
        "    [102, \"Male\", 34, \"Los Angeles\", \"Silver\", 780.5, 11, 4.1, False, 18, \"Neutral\"],\n",
        "    # ... rest of the data ...\n",
        "]\n",
        "# Create a DataFrame from the data list\n",
        "df = pd.DataFrame(data_list, columns=[\n",
        "                  \"Customer ID\", \"Gender\", \"Age\", \"City\", \"Membership Type\", \"Total Spend\", \"Items Purchased\", \"Average Rating\", \"Discount Applied\", \"Days Since Last Purchase\", \"Satisfaction Level\"])\n",
        "# Display the DataFrame\n",
        "print(df)"
      ]
    },
    {
      "cell_type": "code",
      "execution_count": null,
      "metadata": {
        "id": "zLv4xwy3qFuU"
      },
      "outputs": [],
      "source": [
        "# Calculate the total number of customers\n",
        "total_customers = len(df)\n",
        "print(\"\\nTotal Customers:\", total_customers)"
      ]
    },
    {
      "cell_type": "code",
      "execution_count": null,
      "metadata": {
        "id": "vqssdjgZqS5z"
      },
      "outputs": [],
      "source": [
        "# Calculate the average age of customers\n",
        "average_age = df[\"Age\"].mean()\n",
        "print(\"\\nAverage Age:\", round(average_age, 1))"
      ]
    },
    {
      "cell_type": "code",
      "execution_count": null,
      "metadata": {
        "id": "ZUY88VjCqwWR"
      },
      "outputs": [],
      "source": [
        "# Calculate the number of customers by city\n",
        "city_counts = df[\"City\"].value_counts()\n",
        "print(\"\\nCity Counts:\")\n",
        "print(city_counts)"
      ]
    },
    {
      "cell_type": "code",
      "execution_count": null,
      "metadata": {
        "id": "Gv5-DEjMrJFI"
      },
      "outputs": [],
      "source": [
        "# Calculate the number of customers by membership type\n",
        "membership_counts = df[\"Membership Type\"].value_counts()\n",
        "print(\"\\nMembership Counts:\")\n",
        "print(membership_counts)"
      ]
    },
    {
      "cell_type": "code",
      "execution_count": null,
      "metadata": {
        "id": "rtP399q_rO3p"
      },
      "outputs": [],
      "source": [
        "# Calculate the average total spend by membership type\n",
        "average_spend_by_membership = df.groupby(\"Membership Type\")[\"Total Spend\"].mean()\n",
        "print(\"\\nAverage Spend by Membership Type:\")\n",
        "print(average_spend_by_membership)\n"
      ]
    },
    {
      "cell_type": "code",
      "execution_count": null,
      "metadata": {
        "id": "lGPRGllNhzhw"
      },
      "outputs": [],
      "source": [
        "# Plot a bar chart of the number of customers by city\n",
        "plt.figure()\n",
        "city_counts.plot(kind=\"bar\")\n",
        "plt.title(\"Number of Customers by City\")\n",
        "plt.xlabel(\"City\")\n",
        "plt.ylabel(\"Count\")\n",
        "plt.show()"
      ]
    },
    {
      "cell_type": "code",
      "execution_count": null,
      "metadata": {
        "id": "Lo9tDDqdh_yQ"
      },
      "outputs": [],
      "source": [
        "# Plot a histogram of the age distribution of customers\n",
        "plt.figure()\n",
        "df[\"Age\"].plot(kind=\"hist\")\n",
        "plt.title(\"Age Distribution of Customers\")\n",
        "plt.xlabel(\"Age\")\n",
        "plt.ylabel(\"Frequency\")\n",
        "plt.show()"
      ]
    },
    {
      "cell_type": "code",
      "execution_count": null,
      "metadata": {
        "id": "ip5KGMSriGeY"
      },
      "outputs": [],
      "source": [
        "# Plot a scatter plot of the total spend versus the average rating of customers\n",
        "plt.figure()\n",
        "df.plot(kind=\"scatter\", x=\"Total Spend\", y=\"Average Rating\")\n",
        "plt.title(\"Total Spend vs Average Rating of Customers\")\n",
        "plt.xlabel(\"Total Spend\")\n",
        "plt.ylabel(\"Average Rating\")\n",
        "plt.show()"
      ]
    },
    {
      "cell_type": "code",
      "execution_count": null,
      "metadata": {
        "id": "fmjiwHkSiLV9"
      },
      "outputs": [],
      "source": [
        "# Plot a pie chart of the satisfaction level of customers\n",
        "plt.figure()\n",
        "df[\"Satisfaction Level\"].value_counts().plot(kind=\"pie\", autopct=\"%1.1f%%\")\n",
        "plt.title(\"Satisfaction Level of Customers\")\n",
        "plt.show()"
      ]
    }
  ],
  "metadata": {
    "colab": {
      "provenance": [],
      "include_colab_link": true
    },
    "kernelspec": {
      "display_name": "Python 3",
      "name": "python3"
    },
    "language_info": {
      "name": "python"
    }
  },
  "nbformat": 4,
  "nbformat_minor": 0
}